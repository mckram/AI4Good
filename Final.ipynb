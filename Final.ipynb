{
 "cells": [
  {
   "cell_type": "code",
   "execution_count": 10,
   "id": "848ac77d",
   "metadata": {},
   "outputs": [],
   "source": [
    "import pandas as pd\n",
    "import numpy as np\n",
    "import seaborn as sns #visualisation\n",
    "import matplotlib.pyplot as plt #visualisation\n",
    "from sklearn.model_selection import train_test_split\n",
    "from sklearn import svm\n",
    "from sklearn.utils import resample\n",
    "from sklearn import metrics\n",
    "from sklearn.feature_selection import SelectFromModel\n",
    "from sklearn.feature_selection import RFECV\n",
    "\n",
    "import math \n",
    "from sklearn.metrics import confusion_matrix\n",
    "from sklearn.model_selection import GridSearchCV\n",
    "from sklearn.ensemble import RandomForestClassifier\n",
    "import seaborn as sns\n",
    "from pandas.plotting import register_matplotlib_converters\n",
    "\n",
    "from sklearn.utils import class_weight\n",
    "\n",
    "%matplotlib inline \n",
    "sns.set(color_codes=True)"
   ]
  },
  {
   "cell_type": "code",
   "execution_count": 11,
   "id": "e91eb561",
   "metadata": {},
   "outputs": [],
   "source": [
    "def binary(df, min):\n",
    "  for i in min: \n",
    "    df.loc[df.REASON == i, 'REASON'] = 0\n",
    "  df.loc[df.REASON != 0, 'REASON'] = 1\n",
    "  return df"
   ]
  },
  {
   "cell_type": "code",
   "execution_count": 12,
   "id": "2a420a37",
   "metadata": {},
   "outputs": [],
   "source": [
    "data = pd.read_csv('training_data1.csv')"
   ]
  },
  {
   "cell_type": "code",
   "execution_count": 13,
   "id": "f03948fe",
   "metadata": {},
   "outputs": [],
   "source": [
    "data = data[data.REASON != 7]\n",
    "data = data.loc[:, data.columns != 'CASEID']\n",
    "data= data.loc[:, data.columns != 'Unnamed: 0']\n",
    "data= data.loc[:, data.columns != 'ADMYR']"
   ]
  },
  {
   "cell_type": "code",
   "execution_count": 14,
   "id": "b35d5cc0",
   "metadata": {},
   "outputs": [],
   "source": [
    "nd = data.copy(deep=True)"
   ]
  },
  {
   "cell_type": "code",
   "execution_count": 15,
   "id": "d62c66d8",
   "metadata": {},
   "outputs": [
    {
     "data": {
      "text/html": [
       "<div>\n",
       "<style scoped>\n",
       "    .dataframe tbody tr th:only-of-type {\n",
       "        vertical-align: middle;\n",
       "    }\n",
       "\n",
       "    .dataframe tbody tr th {\n",
       "        vertical-align: top;\n",
       "    }\n",
       "\n",
       "    .dataframe thead th {\n",
       "        text-align: right;\n",
       "    }\n",
       "</style>\n",
       "<table border=\"1\" class=\"dataframe\">\n",
       "  <thead>\n",
       "    <tr style=\"text-align: right;\">\n",
       "      <th></th>\n",
       "      <th>ALCFLG</th>\n",
       "      <th>COKEFLG</th>\n",
       "      <th>MARFLG</th>\n",
       "      <th>HERFLG</th>\n",
       "      <th>METHFLG</th>\n",
       "      <th>OPSYNFLG</th>\n",
       "      <th>PCPFLG</th>\n",
       "      <th>HALLFLG</th>\n",
       "      <th>MTHAMFLG</th>\n",
       "      <th>AMPHFLG</th>\n",
       "      <th>...</th>\n",
       "      <th>FREQ_ATND_SELF_HELP_-9</th>\n",
       "      <th>FREQ_ATND_SELF_HELP_1</th>\n",
       "      <th>FREQ_ATND_SELF_HELP_2</th>\n",
       "      <th>FREQ_ATND_SELF_HELP_3</th>\n",
       "      <th>FREQ_ATND_SELF_HELP_4</th>\n",
       "      <th>FREQ_ATND_SELF_HELP_5</th>\n",
       "      <th>IDU_-9</th>\n",
       "      <th>IDU_0</th>\n",
       "      <th>IDU_1</th>\n",
       "      <th>REASON</th>\n",
       "    </tr>\n",
       "  </thead>\n",
       "  <tbody>\n",
       "    <tr>\n",
       "      <th>0</th>\n",
       "      <td>1</td>\n",
       "      <td>1</td>\n",
       "      <td>0</td>\n",
       "      <td>1</td>\n",
       "      <td>0</td>\n",
       "      <td>0</td>\n",
       "      <td>0</td>\n",
       "      <td>0</td>\n",
       "      <td>0</td>\n",
       "      <td>0</td>\n",
       "      <td>...</td>\n",
       "      <td>1</td>\n",
       "      <td>0</td>\n",
       "      <td>0</td>\n",
       "      <td>0</td>\n",
       "      <td>0</td>\n",
       "      <td>0</td>\n",
       "      <td>0</td>\n",
       "      <td>1</td>\n",
       "      <td>0</td>\n",
       "      <td>1</td>\n",
       "    </tr>\n",
       "    <tr>\n",
       "      <th>1</th>\n",
       "      <td>1</td>\n",
       "      <td>1</td>\n",
       "      <td>0</td>\n",
       "      <td>1</td>\n",
       "      <td>0</td>\n",
       "      <td>0</td>\n",
       "      <td>0</td>\n",
       "      <td>0</td>\n",
       "      <td>0</td>\n",
       "      <td>0</td>\n",
       "      <td>...</td>\n",
       "      <td>1</td>\n",
       "      <td>0</td>\n",
       "      <td>0</td>\n",
       "      <td>0</td>\n",
       "      <td>0</td>\n",
       "      <td>0</td>\n",
       "      <td>0</td>\n",
       "      <td>1</td>\n",
       "      <td>0</td>\n",
       "      <td>1</td>\n",
       "    </tr>\n",
       "    <tr>\n",
       "      <th>2</th>\n",
       "      <td>0</td>\n",
       "      <td>0</td>\n",
       "      <td>1</td>\n",
       "      <td>0</td>\n",
       "      <td>0</td>\n",
       "      <td>0</td>\n",
       "      <td>0</td>\n",
       "      <td>0</td>\n",
       "      <td>0</td>\n",
       "      <td>0</td>\n",
       "      <td>...</td>\n",
       "      <td>1</td>\n",
       "      <td>0</td>\n",
       "      <td>0</td>\n",
       "      <td>0</td>\n",
       "      <td>0</td>\n",
       "      <td>0</td>\n",
       "      <td>0</td>\n",
       "      <td>1</td>\n",
       "      <td>0</td>\n",
       "      <td>1</td>\n",
       "    </tr>\n",
       "    <tr>\n",
       "      <th>3</th>\n",
       "      <td>0</td>\n",
       "      <td>1</td>\n",
       "      <td>1</td>\n",
       "      <td>0</td>\n",
       "      <td>0</td>\n",
       "      <td>0</td>\n",
       "      <td>0</td>\n",
       "      <td>0</td>\n",
       "      <td>0</td>\n",
       "      <td>0</td>\n",
       "      <td>...</td>\n",
       "      <td>0</td>\n",
       "      <td>1</td>\n",
       "      <td>0</td>\n",
       "      <td>0</td>\n",
       "      <td>0</td>\n",
       "      <td>0</td>\n",
       "      <td>0</td>\n",
       "      <td>1</td>\n",
       "      <td>0</td>\n",
       "      <td>1</td>\n",
       "    </tr>\n",
       "    <tr>\n",
       "      <th>4</th>\n",
       "      <td>0</td>\n",
       "      <td>0</td>\n",
       "      <td>0</td>\n",
       "      <td>0</td>\n",
       "      <td>0</td>\n",
       "      <td>0</td>\n",
       "      <td>0</td>\n",
       "      <td>0</td>\n",
       "      <td>0</td>\n",
       "      <td>0</td>\n",
       "      <td>...</td>\n",
       "      <td>0</td>\n",
       "      <td>0</td>\n",
       "      <td>1</td>\n",
       "      <td>0</td>\n",
       "      <td>0</td>\n",
       "      <td>0</td>\n",
       "      <td>1</td>\n",
       "      <td>0</td>\n",
       "      <td>0</td>\n",
       "      <td>1</td>\n",
       "    </tr>\n",
       "    <tr>\n",
       "      <th>...</th>\n",
       "      <td>...</td>\n",
       "      <td>...</td>\n",
       "      <td>...</td>\n",
       "      <td>...</td>\n",
       "      <td>...</td>\n",
       "      <td>...</td>\n",
       "      <td>...</td>\n",
       "      <td>...</td>\n",
       "      <td>...</td>\n",
       "      <td>...</td>\n",
       "      <td>...</td>\n",
       "      <td>...</td>\n",
       "      <td>...</td>\n",
       "      <td>...</td>\n",
       "      <td>...</td>\n",
       "      <td>...</td>\n",
       "      <td>...</td>\n",
       "      <td>...</td>\n",
       "      <td>...</td>\n",
       "      <td>...</td>\n",
       "      <td>...</td>\n",
       "    </tr>\n",
       "    <tr>\n",
       "      <th>1377797</th>\n",
       "      <td>0</td>\n",
       "      <td>0</td>\n",
       "      <td>0</td>\n",
       "      <td>1</td>\n",
       "      <td>0</td>\n",
       "      <td>0</td>\n",
       "      <td>0</td>\n",
       "      <td>0</td>\n",
       "      <td>0</td>\n",
       "      <td>0</td>\n",
       "      <td>...</td>\n",
       "      <td>0</td>\n",
       "      <td>1</td>\n",
       "      <td>0</td>\n",
       "      <td>0</td>\n",
       "      <td>0</td>\n",
       "      <td>0</td>\n",
       "      <td>0</td>\n",
       "      <td>0</td>\n",
       "      <td>1</td>\n",
       "      <td>1</td>\n",
       "    </tr>\n",
       "    <tr>\n",
       "      <th>1377798</th>\n",
       "      <td>1</td>\n",
       "      <td>0</td>\n",
       "      <td>0</td>\n",
       "      <td>0</td>\n",
       "      <td>0</td>\n",
       "      <td>0</td>\n",
       "      <td>0</td>\n",
       "      <td>0</td>\n",
       "      <td>1</td>\n",
       "      <td>0</td>\n",
       "      <td>...</td>\n",
       "      <td>0</td>\n",
       "      <td>1</td>\n",
       "      <td>0</td>\n",
       "      <td>0</td>\n",
       "      <td>0</td>\n",
       "      <td>0</td>\n",
       "      <td>0</td>\n",
       "      <td>1</td>\n",
       "      <td>0</td>\n",
       "      <td>1</td>\n",
       "    </tr>\n",
       "    <tr>\n",
       "      <th>1377799</th>\n",
       "      <td>1</td>\n",
       "      <td>0</td>\n",
       "      <td>1</td>\n",
       "      <td>0</td>\n",
       "      <td>0</td>\n",
       "      <td>0</td>\n",
       "      <td>0</td>\n",
       "      <td>0</td>\n",
       "      <td>0</td>\n",
       "      <td>0</td>\n",
       "      <td>...</td>\n",
       "      <td>0</td>\n",
       "      <td>1</td>\n",
       "      <td>0</td>\n",
       "      <td>0</td>\n",
       "      <td>0</td>\n",
       "      <td>0</td>\n",
       "      <td>0</td>\n",
       "      <td>1</td>\n",
       "      <td>0</td>\n",
       "      <td>1</td>\n",
       "    </tr>\n",
       "    <tr>\n",
       "      <th>1377800</th>\n",
       "      <td>0</td>\n",
       "      <td>0</td>\n",
       "      <td>0</td>\n",
       "      <td>1</td>\n",
       "      <td>0</td>\n",
       "      <td>0</td>\n",
       "      <td>0</td>\n",
       "      <td>0</td>\n",
       "      <td>0</td>\n",
       "      <td>0</td>\n",
       "      <td>...</td>\n",
       "      <td>0</td>\n",
       "      <td>0</td>\n",
       "      <td>0</td>\n",
       "      <td>0</td>\n",
       "      <td>0</td>\n",
       "      <td>1</td>\n",
       "      <td>0</td>\n",
       "      <td>0</td>\n",
       "      <td>1</td>\n",
       "      <td>1</td>\n",
       "    </tr>\n",
       "    <tr>\n",
       "      <th>1377801</th>\n",
       "      <td>1</td>\n",
       "      <td>0</td>\n",
       "      <td>0</td>\n",
       "      <td>0</td>\n",
       "      <td>0</td>\n",
       "      <td>0</td>\n",
       "      <td>0</td>\n",
       "      <td>0</td>\n",
       "      <td>0</td>\n",
       "      <td>0</td>\n",
       "      <td>...</td>\n",
       "      <td>0</td>\n",
       "      <td>1</td>\n",
       "      <td>0</td>\n",
       "      <td>0</td>\n",
       "      <td>0</td>\n",
       "      <td>0</td>\n",
       "      <td>0</td>\n",
       "      <td>1</td>\n",
       "      <td>0</td>\n",
       "      <td>1</td>\n",
       "    </tr>\n",
       "  </tbody>\n",
       "</table>\n",
       "<p>1321992 rows × 174 columns</p>\n",
       "</div>"
      ],
      "text/plain": [
       "         ALCFLG  COKEFLG  MARFLG  HERFLG  METHFLG  OPSYNFLG  PCPFLG  HALLFLG  \\\n",
       "0             1        1       0       1        0         0       0        0   \n",
       "1             1        1       0       1        0         0       0        0   \n",
       "2             0        0       1       0        0         0       0        0   \n",
       "3             0        1       1       0        0         0       0        0   \n",
       "4             0        0       0       0        0         0       0        0   \n",
       "...         ...      ...     ...     ...      ...       ...     ...      ...   \n",
       "1377797       0        0       0       1        0         0       0        0   \n",
       "1377798       1        0       0       0        0         0       0        0   \n",
       "1377799       1        0       1       0        0         0       0        0   \n",
       "1377800       0        0       0       1        0         0       0        0   \n",
       "1377801       1        0       0       0        0         0       0        0   \n",
       "\n",
       "         MTHAMFLG  AMPHFLG  ...  FREQ_ATND_SELF_HELP_-9  \\\n",
       "0               0        0  ...                       1   \n",
       "1               0        0  ...                       1   \n",
       "2               0        0  ...                       1   \n",
       "3               0        0  ...                       0   \n",
       "4               0        0  ...                       0   \n",
       "...           ...      ...  ...                     ...   \n",
       "1377797         0        0  ...                       0   \n",
       "1377798         1        0  ...                       0   \n",
       "1377799         0        0  ...                       0   \n",
       "1377800         0        0  ...                       0   \n",
       "1377801         0        0  ...                       0   \n",
       "\n",
       "         FREQ_ATND_SELF_HELP_1  FREQ_ATND_SELF_HELP_2  FREQ_ATND_SELF_HELP_3  \\\n",
       "0                            0                      0                      0   \n",
       "1                            0                      0                      0   \n",
       "2                            0                      0                      0   \n",
       "3                            1                      0                      0   \n",
       "4                            0                      1                      0   \n",
       "...                        ...                    ...                    ...   \n",
       "1377797                      1                      0                      0   \n",
       "1377798                      1                      0                      0   \n",
       "1377799                      1                      0                      0   \n",
       "1377800                      0                      0                      0   \n",
       "1377801                      1                      0                      0   \n",
       "\n",
       "         FREQ_ATND_SELF_HELP_4  FREQ_ATND_SELF_HELP_5  IDU_-9  IDU_0  IDU_1  \\\n",
       "0                            0                      0       0      1      0   \n",
       "1                            0                      0       0      1      0   \n",
       "2                            0                      0       0      1      0   \n",
       "3                            0                      0       0      1      0   \n",
       "4                            0                      0       1      0      0   \n",
       "...                        ...                    ...     ...    ...    ...   \n",
       "1377797                      0                      0       0      0      1   \n",
       "1377798                      0                      0       0      1      0   \n",
       "1377799                      0                      0       0      1      0   \n",
       "1377800                      0                      1       0      0      1   \n",
       "1377801                      0                      0       0      1      0   \n",
       "\n",
       "         REASON  \n",
       "0             1  \n",
       "1             1  \n",
       "2             1  \n",
       "3             1  \n",
       "4             1  \n",
       "...         ...  \n",
       "1377797       1  \n",
       "1377798       1  \n",
       "1377799       1  \n",
       "1377800       1  \n",
       "1377801       1  \n",
       "\n",
       "[1321992 rows x 174 columns]"
      ]
     },
     "execution_count": 15,
     "metadata": {},
     "output_type": "execute_result"
    }
   ],
   "source": [
    "binary(nd,[6])"
   ]
  },
  {
   "cell_type": "code",
   "execution_count": 16,
   "id": "04afa4a7",
   "metadata": {},
   "outputs": [
    {
     "data": {
      "text/plain": [
       "1    1055364\n",
       "0       2229\n",
       "Name: REASON, dtype: int64"
      ]
     },
     "execution_count": 16,
     "metadata": {},
     "output_type": "execute_result"
    }
   ],
   "source": [
    "train, test = train_test_split(nd, test_size=0.2, shuffle=True)\n",
    "\n",
    "train['REASON'].value_counts()"
   ]
  },
  {
   "cell_type": "code",
   "execution_count": 17,
   "id": "d59e5108",
   "metadata": {},
   "outputs": [
    {
     "data": {
      "text/plain": [
       "0    5000\n",
       "1    5000\n",
       "Name: REASON, dtype: int64"
      ]
     },
     "execution_count": 17,
     "metadata": {},
     "output_type": "execute_result"
    }
   ],
   "source": [
    "df_majority = train[train.REASON==1]\n",
    "df_minority = train[train.REASON==0]\n",
    " \n",
    "# Upsample minority class\n",
    "df_maj_downsampled = resample(df_majority, \n",
    "                                 replace=False,     # sample with replacement\n",
    "                                 n_samples=5000,    # to match majority class\n",
    "                                 random_state=123) # reproducible results\n",
    "# Upsample minority class\n",
    "df_min_upsampled = resample(df_minority, \n",
    "                                 replace=True,     # sample with replacement\n",
    "                                 n_samples=5000,    # to match majority class\n",
    "                                 random_state=123) # reproducible results\n",
    " \n",
    "# Combine majority class with upsampled minority class\n",
    "df_resampled = pd.concat([df_min_upsampled, df_maj_downsampled])\n",
    " \n",
    "# Display new class counts\n",
    "df_resampled.REASON.value_counts()"
   ]
  },
  {
   "cell_type": "code",
   "execution_count": 18,
   "id": "cdec28b2",
   "metadata": {},
   "outputs": [],
   "source": [
    "# Labels are the values we want to predict\n",
    "y_train_nd = np.array(df_resampled['REASON'])\n",
    "# Remove the labels from the features\n",
    "# axis 1 refers to the columns\n",
    "X_train_nd = df_resampled.drop('REASON', axis = 1)\n",
    "# Saving feature names for later use\n",
    "feature_list_train_nd = list(X_train_nd.columns)\n",
    "# Convert to numpy array\n",
    "X_train_nd = np.array(X_train_nd)"
   ]
  },
  {
   "cell_type": "code",
   "execution_count": 19,
   "id": "9d468095",
   "metadata": {},
   "outputs": [],
   "source": [
    "# Labels are the values we want to predict\n",
    "y_test_nd = np.array(test['REASON'])\n",
    "# Remove the labels from the features\n",
    "# axis 1 refers to the columns\n",
    "X_test_nd = test.drop('REASON', axis = 1)\n",
    "# Saving feature names for later use\n",
    "feature_list_train_nd = list(X_test_nd.columns)\n",
    "# Convert to numpy array\n",
    "X_test_nd = np.array(X_test_nd)"
   ]
  },
  {
   "cell_type": "code",
   "execution_count": 20,
   "id": "dd87aa4a",
   "metadata": {},
   "outputs": [],
   "source": [
    "rf =  RandomForestClassifier()"
   ]
  },
  {
   "cell_type": "code",
   "execution_count": 21,
   "id": "b88ca3fa",
   "metadata": {},
   "outputs": [],
   "source": [
    "rf.fit(X_train_nd, y_train_nd);"
   ]
  },
  {
   "cell_type": "code",
   "execution_count": 22,
   "id": "9e1a2d83",
   "metadata": {},
   "outputs": [
    {
     "name": "stdout",
     "output_type": "stream",
     "text": [
      "Accuracy: 0.932666159856883\n"
     ]
    }
   ],
   "source": [
    "y_pred_nd=rf.predict(X_test_nd)\n",
    "\n",
    "print(\"Accuracy:\", metrics.accuracy_score(y_test_nd, y_pred_nd))"
   ]
  },
  {
   "cell_type": "code",
   "execution_count": 23,
   "id": "09feaa0b",
   "metadata": {},
   "outputs": [
    {
     "name": "stdout",
     "output_type": "stream",
     "text": [
      "[[    44    576]\n",
      " [ 17227 246552]]\n"
     ]
    },
    {
     "data": {
      "image/png": "[encoded data removed]",
      "text/plain": [
       "<Figure size 432x288 with 2 Axes>"
      ]
     },
     "metadata": {},
     "output_type": "display_data"
    }
   ],
   "source": [
    "import matplotlib.pyplot as plt\n",
    "import seaborn as sns\n",
    "from sklearn import metrics\n",
    "from sklearn.metrics import ConfusionMatrixDisplay\n",
    "cm = metrics.confusion_matrix(y_test_nd, y_pred_nd)\n",
    "disc = ConfusionMatrixDisplay(cm)\n",
    "disc.plot()\n",
    "print(cm)"
   ]
  },
  {
   "cell_type": "code",
   "execution_count": 24,
   "id": "522fa872",
   "metadata": {},
   "outputs": [
    {
     "name": "stdout",
     "output_type": "stream",
     "text": [
      "['ALCFLG', 'COKEFLG', 'MARFLG', 'HERFLG', 'METHFLG', 'OPSYNFLG', 'PCPFLG', 'HALLFLG', 'MTHAMFLG', 'AMPHFLG', 'STIMFLG', 'BENZFLG', 'TRNQFLG', 'BARBFLG', 'SEDHPFLG', 'INHFLG', 'OTCFLG', 'OTHERFLG', 'EDUC_-9', 'EDUC_1', 'EDUC_2', 'EDUC_3', 'EDUC_4', 'EDUC_5', 'MARSTAT_-9', 'MARSTAT_1', 'MARSTAT_2', 'MARSTAT_3', 'MARSTAT_4', 'NOPRIOR_-9', 'NOPRIOR_0', 'NOPRIOR_1', 'NOPRIOR_2', 'NOPRIOR_3', 'NOPRIOR_4', 'NOPRIOR_5', 'PSOURCE_-9', 'PSOURCE_1', 'PSOURCE_2', 'PSOURCE_3', 'PSOURCE_4', 'PSOURCE_5', 'PSOURCE_6', 'PSOURCE_7', 'ARRESTS_-9', 'ARRESTS_0', 'ARRESTS_1', 'ARRESTS_2', 'EMPLOY_-9', 'EMPLOY_1', 'EMPLOY_2', 'EMPLOY_3', 'EMPLOY_4', 'PSYPROB_-9', 'PSYPROB_1', 'PSYPROB_2', 'PREG_-9', 'PREG_1', 'PREG_2', 'GENDER_-9', 'GENDER_1', 'GENDER_2', 'VET_-9', 'VET_1', 'VET_2', 'DSMCRIT_-9', 'DSMCRIT_1', 'DSMCRIT_2', 'DSMCRIT_3', 'DSMCRIT_4', 'DSMCRIT_5', 'DSMCRIT_6', 'DSMCRIT_7', 'DSMCRIT_8', 'DSMCRIT_9', 'DSMCRIT_10', 'DSMCRIT_11', 'DSMCRIT_12', 'DSMCRIT_13', 'DSMCRIT_14', 'DSMCRIT_15', 'DSMCRIT_16', 'DSMCRIT_17', 'DSMCRIT_18', 'DSMCRIT_19', 'AGE_1', 'AGE_2', 'AGE_3', 'AGE_4', 'AGE_5', 'AGE_6', 'AGE_7', 'AGE_8', 'AGE_9', 'AGE_10', 'AGE_11', 'AGE_12', 'RACE_-9', 'RACE_1', 'RACE_2', 'RACE_3', 'RACE_4', 'RACE_5', 'RACE_6', 'RACE_7', 'RACE_8', 'RACE_9', 'ETHNIC_-9', 'ETHNIC_1', 'ETHNIC_2', 'ETHNIC_3', 'ETHNIC_4', 'ETHNIC_5', 'SUB1_-9', 'SUB1_1', 'SUB1_2', 'SUB1_3', 'SUB1_4', 'SUB1_5', 'SUB1_6', 'SUB1_7', 'SUB1_8', 'SUB1_9', 'SUB1_10', 'SUB1_11', 'SUB1_12', 'SUB1_13', 'SUB1_14', 'SUB1_15', 'SUB1_16', 'SUB1_17', 'SUB1_18', 'SUB1_19', 'ROUTE1_-9', 'ROUTE1_1', 'ROUTE1_2', 'ROUTE1_3', 'ROUTE1_4', 'ROUTE1_5', 'FREQ1_-9', 'FREQ1_1', 'FREQ1_2', 'FREQ1_3', 'FRSTUSE1_-9', 'FRSTUSE1_1', 'FRSTUSE1_2', 'FRSTUSE1_3', 'FRSTUSE1_4', 'FRSTUSE1_5', 'FRSTUSE1_6', 'FRSTUSE1_7', 'HLTHINS_-9', 'HLTHINS_1', 'HLTHINS_2', 'HLTHINS_3', 'HLTHINS_4', 'PRIMPAY_-9', 'PRIMPAY_1', 'PRIMPAY_2', 'PRIMPAY_3', 'PRIMPAY_4', 'PRIMPAY_5', 'PRIMPAY_6', 'PRIMPAY_7', 'FREQ_ATND_SELF_HELP_-9', 'FREQ_ATND_SELF_HELP_1', 'FREQ_ATND_SELF_HELP_2', 'FREQ_ATND_SELF_HELP_3', 'FREQ_ATND_SELF_HELP_4', 'FREQ_ATND_SELF_HELP_5', 'IDU_-9', 'IDU_0', 'IDU_1']\n"
     ]
    }
   ],
   "source": [
    "# Labels are the values we want to predict\n",
    "labels = np.array(data['REASON'])\n",
    "# Remove the labels from the features\n",
    "# axis 1 refers to the columns\n",
    "features= data.drop('REASON', axis = 1)\n",
    "# Saving feature names for later use\n",
    "feature_list = list(features.columns)\n",
    "# Convert to numpy array\n",
    "features = np.array(features)\n",
    "\n",
    "print(feature_list)"
   ]
  },
  {
   "cell_type": "code",
   "execution_count": 25,
   "id": "d61dab0b",
   "metadata": {},
   "outputs": [
    {
     "name": "stdout",
     "output_type": "stream",
     "text": [
      "[127  12 100 128  81  59  83  13 125 131 122  79  82 129  15 130  98 119\n",
      "  80 121  40 106  16 124  14  10   4  66 132  41  85   7 103 113   6 159\n",
      "  78 114 170  68 126 138  57  77 162  76 133  47   9 139 163  96  97 105\n",
      "  86 158  63 143  99 109 107  75  67  36 157  17 112  74  44  18 152  87\n",
      " 110  71 116 154 167  73 108 123  72  48 120  34  27 117 169 104 144  23\n",
      "  46  62  19 137 166 161  29 115  11  84 168 118  24  39  33 172  50 135\n",
      "  53 136  64 171 160 164  38 134   8  88  45 150  93 149   5 148  26  56\n",
      "  58  94   3  69 155  70  22  95 153  28 111 156  92  32  42  35  60  61\n",
      "   0 145  65 151  31  49 101 147  43  91  20  90  30  89 140  54 146 141\n",
      "   2  25 142 165  55   1  51  21  52  37 102]\n"
     ]
    },
    {
     "data": {
      "image/png": "[encoded data removed]",
      "text/plain": [
       "<Figure size 720x7200 with 1 Axes>"
      ]
     },
     "metadata": {},
     "output_type": "display_data"
    }
   ],
   "source": [
    "import pandas as pd\n",
    "\n",
    "ndd = nd.loc[:, nd.columns != 'REASON']\n",
    "\n",
    "\n",
    "features = ndd.columns\n",
    "importances = rf.feature_importances_\n",
    "indices = np.argsort(importances)\n",
    "print(indices)\n",
    "\n",
    "# customized number \n",
    "num_features = 10 \n",
    "\n",
    "plt.figure(figsize=(10,100))\n",
    "plt.title('Feature Importances')\n",
    "\n",
    "# only plot the customized number of features\n",
    "plt.barh(range(num_features), importances[indices[-num_features:]], color='b', align='center')\n",
    "plt.yticks(range(num_features), [features[i] for i in indices[-num_features:]])\n",
    "plt.xlabel('Relative Importance')\n",
    "plt.show()"
   ]
  },
  {
   "cell_type": "code",
   "execution_count": 26,
   "id": "760fb2ea",
   "metadata": {},
   "outputs": [
    {
     "data": {
      "text/plain": [
       "1    580244\n",
       "2    346256\n",
       "Name: REASON, dtype: int64"
      ]
     },
     "execution_count": 26,
     "metadata": {},
     "output_type": "execute_result"
    }
   ],
   "source": [
    "#model for treatment effective/not effective\n",
    "data_eff =  data[data['REASON'].isin([1,2])] \n",
    "data_eff['REASON'].value_counts()"
   ]
  },
  {
   "cell_type": "code",
   "execution_count": 27,
   "id": "526b7fa9",
   "metadata": {},
   "outputs": [
    {
     "data": {
      "text/plain": [
       "1    464517\n",
       "2    276683\n",
       "Name: REASON, dtype: int64"
      ]
     },
     "execution_count": 27,
     "metadata": {},
     "output_type": "execute_result"
    }
   ],
   "source": [
    "train_eff, test_eff = train_test_split(data_eff, test_size=0.2, shuffle=True)\n",
    "\n",
    "train_eff['REASON'].value_counts()"
   ]
  },
  {
   "cell_type": "code",
   "execution_count": 28,
   "id": "77b856f4",
   "metadata": {},
   "outputs": [
    {
     "data": {
      "text/plain": [
       "1    464517\n",
       "2    115835\n",
       "Name: REASON, dtype: int64"
      ]
     },
     "execution_count": 28,
     "metadata": {},
     "output_type": "execute_result"
    }
   ],
   "source": [
    "df_majority = train_eff[train_eff.REASON==1]\n",
    "df_minority = train_eff[train_eff.REASON==2]\n",
    " \n",
    "# Upsample minority class\n",
    "df_min_upsampled = resample(df_minority, \n",
    "                                 replace=True,     # sample with replacement\n",
    "                                 n_samples=115835,    # to match majority class\n",
    "                                 random_state=123) # reproducible results\n",
    " \n",
    "# Combine majority class with upsampled minority class\n",
    "df_resampled_eff = pd.concat([df_min_upsampled, df_majority])\n",
    " \n",
    "# Display new class counts\n",
    "df_resampled_eff.REASON.value_counts()"
   ]
  },
  {
   "cell_type": "code",
   "execution_count": 29,
   "id": "cd8c2b97",
   "metadata": {},
   "outputs": [],
   "source": [
    "# Labels are the values we want to predict\n",
    "y_train_eff = np.array(df_resampled_eff['REASON'])\n",
    "# Remove the labels from the features\n",
    "# axis 1 refers to the columns\n",
    "X_train_eff = df_resampled_eff.drop('REASON', axis = 1)\n",
    "# Saving feature names for later use\n",
    "feature_list_train_eff = list(X_train_eff.columns)\n",
    "# Convert to numpy array\n",
    "X_train_eff = np.array(X_train_eff)"
   ]
  },
  {
   "cell_type": "code",
   "execution_count": 30,
   "id": "74d4e5d3",
   "metadata": {},
   "outputs": [],
   "source": [
    "# Labels are the values we want to predict\n",
    "y_test_eff = np.array(test_eff['REASON'])\n",
    "# Remove the labels from the features\n",
    "# axis 1 refers to the columns\n",
    "X_test_eff = test_eff.drop('REASON', axis = 1)\n",
    "# Saving feature names for later use\n",
    "feature_list_train_eff = list(X_test_eff.columns)\n",
    "# Convert to numpy array\n",
    "X_test_eff = np.array(X_test_eff)"
   ]
  },
  {
   "cell_type": "code",
   "execution_count": null,
   "id": "f09d7ef7",
   "metadata": {},
   "outputs": [],
   "source": [
    "model_res = rf.fit(X_train_eff, y_train_eff)"
   ]
  },
  {
   "cell_type": "code",
   "execution_count": null,
   "id": "0c10fd68",
   "metadata": {},
   "outputs": [],
   "source": [
    "y_pred_eff = model_res.predict(X_test_eff)\n",
    "\n",
    "\n",
    "print(\"Accuracy:\", metrics.accuracy_score(y_test_eff, y_pred_eff))\n"
   ]
  },
  {
   "cell_type": "code",
   "execution_count": null,
   "id": "9381c34e",
   "metadata": {},
   "outputs": [],
   "source": [
    "import matplotlib.pyplot as plt\n",
    "import seaborn as sns\n",
    "from sklearn import metrics\n",
    "from sklearn.metrics import ConfusionMatrixDisplay\n",
    "cm = metrics.confusion_matrix(y_test_eff, y_pred_eff)\n",
    "disc = ConfusionMatrixDisplay(cm)\n",
    "disc.plot()\n",
    "print(cm)"
   ]
  }
 ],
 "metadata": {
  "kernelspec": {
   "display_name": "gputest1",
   "language": "python",
   "name": "gputest1"
  },
  "language_info": {
   "codemirror_mode": {
    "name": "ipython",
    "version": 3
   },
   "file_extension": ".py",
   "mimetype": "text/x-python",
   "name": "python",
   "nbconvert_exporter": "python",
   "pygments_lexer": "ipython3",
   "version": "3.9.12"
  }
 },
 "nbformat": 4,
 "nbformat_minor": 5
}
